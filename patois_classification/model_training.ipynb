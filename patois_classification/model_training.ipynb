{
 "cells": [
  {
   "cell_type": "code",
   "execution_count": 10,
   "metadata": {},
   "outputs": [],
   "source": [
    "import pandas as pd\n",
    "from transformers import AutoTokenizer, AutoModelForSequenceClassification\n",
    "from sklearn.metrics import classification_report\n",
    "from sklearn.model_selection import train_test_split\n",
    "import torch"
   ]
  },
  {
   "cell_type": "code",
   "execution_count": 11,
   "metadata": {},
   "outputs": [
    {
     "name": "stderr",
     "output_type": "stream",
     "text": [
      "/Library/Frameworks/Python.framework/Versions/3.12/lib/python3.12/site-packages/huggingface_hub/file_download.py:1132: FutureWarning: `resume_download` is deprecated and will be removed in version 1.0.0. Downloads always resume when possible. If you want to force a new download, use `force_download=True`.\n",
      "  warnings.warn(\n",
      "Some weights of RobertaForSequenceClassification were not initialized from the model checkpoint at roberta-base and are newly initialized: ['classifier.dense.bias', 'classifier.dense.weight', 'classifier.out_proj.bias', 'classifier.out_proj.weight']\n",
      "You should probably TRAIN this model on a down-stream task to be able to use it for predictions and inference.\n"
     ]
    }
   ],
   "source": [
    "# Load tokenizer\n",
    "tokenizer = RobertaTokenizer.from_pretrained('roberta-base')\n",
    "\n",
    "# Load pre-trained model\n",
    "model = RobertaForSequenceClassification.from_pretrained('roberta-base', num_labels=21)"
   ]
  },
  {
   "cell_type": "code",
   "execution_count": 13,
   "metadata": {},
   "outputs": [],
   "source": [
    "# Load the data\n",
    "data = pd.read_csv(\"training.csv\")\n",
    "\n",
    "# Split data into features (X) and labels (y)\n",
    "X = data['text']\n",
    "y = data.drop('text', axis=1)\n",
    "\n",
    "# Split data into training and testing sets\n",
    "X_train, X_test, y_train, y_test = train_test_split(X, y, test_size=0.2, random_state=42)\n",
    "\n",
    "# Prepare text data\n",
    "texts_train = X_train.tolist()\n",
    "texts_test = X_test.tolist()\n",
    "\n",
    "# Tokenize text\n",
    "inputs_train = tokenizer(texts_train, padding=True, truncation=True, return_tensors=\"pt\")\n",
    "inputs_test = tokenizer(texts_test, padding=True, truncation=True, return_tensors=\"pt\")"
   ]
  },
  {
   "cell_type": "code",
   "execution_count": 15,
   "metadata": {},
   "outputs": [],
   "source": [
    "#Train the model\n",
    "model.train()\n",
    "\n",
    "# Define optimizer and loss function\n",
    "optimizer = torch.optim.AdamW(model.parameters(), lr=2e-5)\n",
    "loss_fn = torch.nn.BCEWithLogitsLoss()\n",
    "\n",
    "# Training loop\n",
    "epochs = 3\n",
    "for epoch in range(epochs):\n",
    "    # Iterate over batches\n",
    "    for i in range(0, len(inputs_train['input_ids']), 32):  # Assuming batch size of 32\n",
    "        batch_inputs = {key: val[i:i+32] for key, val in inputs_train.items()}  # Select batch\n",
    "        batch_labels = y_train[i:i+32]\n",
    "        \n",
    "        # Forward pass\n",
    "        outputs = model(**batch_inputs)\n",
    "        loss = loss_fn(outputs.logits, torch.tensor(batch_labels.values, dtype=torch.float32))\n",
    "        \n",
    "        # Backward pass\n",
    "        optimizer.zero_grad()\n",
    "        loss.backward()\n",
    "        optimizer.step()"
   ]
  },
  {
   "cell_type": "code",
   "execution_count": 17,
   "metadata": {},
   "outputs": [
    {
     "name": "stdout",
     "output_type": "stream",
     "text": [
      "\n",
      "Accuracy per Emotion Label on Testing Set:\n",
      "                precision    recall  f1-score   support\n",
      "\n",
      "           Joy       0.00      0.00      0.00        16\n",
      "         Anger       0.00      0.00      0.00        21\n",
      "       Sadness       0.00      0.00      0.00        12\n",
      "      Surprise       0.00      0.00      0.00        12\n",
      "          Fear       0.00      0.00      0.00         7\n",
      "       Disgust       0.00      0.00      0.00        15\n",
      "          Love       0.00      0.00      0.00        18\n",
      "     Confusion       0.00      0.00      0.00         8\n",
      "Disappointment       0.00      0.00      0.00         7\n",
      "       Neutral       0.00      0.00      0.00        35\n",
      "   Frustration       0.00      0.00      0.00         2\n",
      "    Admiration       0.00      0.00      0.00         4\n",
      "       Dislike       0.00      0.00      0.00         1\n",
      "     Annoyance       0.00      0.00      0.00         2\n",
      " Admiritation        0.00      0.00      0.00         0\n",
      "    Excitement       0.00      0.00      0.00         0\n",
      "         Pride       0.00      0.00      0.00         0\n",
      "        Desire       0.00      0.00      0.00         0\n",
      "   Curiousity        0.00      0.00      0.00         0\n",
      "      Optimism       0.00      0.00      0.00         0\n",
      "   Disapproval       0.00      0.00      0.00         0\n",
      "\n",
      "     micro avg       0.00      0.00      0.00       160\n",
      "     macro avg       0.00      0.00      0.00       160\n",
      "  weighted avg       0.00      0.00      0.00       160\n",
      "   samples avg       0.00      0.00      0.00       160\n",
      "\n"
     ]
    },
    {
     "name": "stderr",
     "output_type": "stream",
     "text": [
      "/Library/Frameworks/Python.framework/Versions/3.12/lib/python3.12/site-packages/sklearn/metrics/_classification.py:1509: UndefinedMetricWarning: Precision is ill-defined and being set to 0.0 in labels with no predicted samples. Use `zero_division` parameter to control this behavior.\n",
      "  _warn_prf(average, modifier, f\"{metric.capitalize()} is\", len(result))\n",
      "/Library/Frameworks/Python.framework/Versions/3.12/lib/python3.12/site-packages/sklearn/metrics/_classification.py:1509: UndefinedMetricWarning: Recall is ill-defined and being set to 0.0 in labels with no true samples. Use `zero_division` parameter to control this behavior.\n",
      "  _warn_prf(average, modifier, f\"{metric.capitalize()} is\", len(result))\n",
      "/Library/Frameworks/Python.framework/Versions/3.12/lib/python3.12/site-packages/sklearn/metrics/_classification.py:1509: UndefinedMetricWarning: F-score is ill-defined and being set to 0.0 in labels with no true nor predicted samples. Use `zero_division` parameter to control this behavior.\n",
      "  _warn_prf(average, modifier, f\"{metric.capitalize()} is\", len(result))\n",
      "/Library/Frameworks/Python.framework/Versions/3.12/lib/python3.12/site-packages/sklearn/metrics/_classification.py:1509: UndefinedMetricWarning: Precision is ill-defined and being set to 0.0 due to no predicted samples. Use `zero_division` parameter to control this behavior.\n",
      "  _warn_prf(average, modifier, f\"{metric.capitalize()} is\", len(result))\n",
      "/Library/Frameworks/Python.framework/Versions/3.12/lib/python3.12/site-packages/sklearn/metrics/_classification.py:1509: UndefinedMetricWarning: Precision is ill-defined and being set to 0.0 in samples with no predicted labels. Use `zero_division` parameter to control this behavior.\n",
      "  _warn_prf(average, modifier, f\"{metric.capitalize()} is\", len(result))\n",
      "/Library/Frameworks/Python.framework/Versions/3.12/lib/python3.12/site-packages/sklearn/metrics/_classification.py:1509: UndefinedMetricWarning: Recall is ill-defined and being set to 0.0 in samples with no true labels. Use `zero_division` parameter to control this behavior.\n",
      "  _warn_prf(average, modifier, f\"{metric.capitalize()} is\", len(result))\n",
      "/Library/Frameworks/Python.framework/Versions/3.12/lib/python3.12/site-packages/sklearn/metrics/_classification.py:1509: UndefinedMetricWarning: F-score is ill-defined and being set to 0.0 in samples with no true nor predicted labels. Use `zero_division` parameter to control this behavior.\n",
      "  _warn_prf(average, modifier, f\"{metric.capitalize()} is\", len(result))\n"
     ]
    }
   ],
   "source": [
    "#Evaluate the model\n",
    "model.eval()\n",
    "\n",
    "# Predict emotions for the testing set\n",
    "with torch.no_grad():\n",
    "    outputs_test = model(**inputs_test)\n",
    "\n",
    "# Convert logits to probabilities\n",
    "probs_test = torch.sigmoid(outputs_test.logits)\n",
    "\n",
    "# Convert probabilities to labels\n",
    "threshold = 0.5  # You can adjust this threshold if needed\n",
    "predicted_labels_test = (probs_test > threshold).int()\n",
    "\n",
    "# Convert predicted labels to dataframe\n",
    "predicted_labels_test_df = pd.DataFrame(predicted_labels_test.numpy(), columns=y.columns)\n",
    "\n",
    "# Evaluate the model\n",
    "print(\"\\nAccuracy per Emotion Label on Testing Set:\")\n",
    "print(classification_report(y_test, predicted_labels_test_df, target_names=y.columns))"
   ]
  }
 ],
 "metadata": {
  "kernelspec": {
   "display_name": "Python 3",
   "language": "python",
   "name": "python3"
  },
  "language_info": {
   "codemirror_mode": {
    "name": "ipython",
    "version": 3
   },
   "file_extension": ".py",
   "mimetype": "text/x-python",
   "name": "python",
   "nbconvert_exporter": "python",
   "pygments_lexer": "ipython3",
   "version": "3.12.3"
  }
 },
 "nbformat": 4,
 "nbformat_minor": 2
}
